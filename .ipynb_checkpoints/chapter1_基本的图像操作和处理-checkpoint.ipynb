{
 "cells": [
  {
   "cell_type": "code",
   "execution_count": 5,
   "metadata": {},
   "outputs": [],
   "source": [
    "import os \n",
    "import numpy as np\n",
    "\n",
    "# 返回目录中所有图像的文件名列表\n",
    "def get_imlist(path):\n",
    "    return [os.path.join(path, f) for f in os.listdir(path) if f.endswith('.jpg')]"
   ]
  },
  {
   "cell_type": "code",
   "execution_count": 6,
   "metadata": {},
   "outputs": [
    {
     "data": {
      "text/plain": [
       "['E:\\\\pythonCV\\\\digital_image_process\\\\images\\\\1.jpg',\n",
       " 'E:\\\\pythonCV\\\\digital_image_process\\\\images\\\\2.jpg',\n",
       " 'E:\\\\pythonCV\\\\digital_image_process\\\\images\\\\3.jpg',\n",
       " 'E:\\\\pythonCV\\\\digital_image_process\\\\images\\\\4.jpg',\n",
       " 'E:\\\\pythonCV\\\\digital_image_process\\\\images\\\\5.jpg',\n",
       " 'E:\\\\pythonCV\\\\digital_image_process\\\\images\\\\6.jpg',\n",
       " 'E:\\\\pythonCV\\\\digital_image_process\\\\images\\\\7.jpg',\n",
       " 'E:\\\\pythonCV\\\\digital_image_process\\\\images\\\\8.jpg',\n",
       " 'E:\\\\pythonCV\\\\digital_image_process\\\\images\\\\cameraman.jpg',\n",
       " 'E:\\\\pythonCV\\\\digital_image_process\\\\images\\\\test.jpg']"
      ]
     },
     "execution_count": 6,
     "metadata": {},
     "output_type": "execute_result"
    }
   ],
   "source": [
    "get_imlist(r'E:\\pythonCV\\digital_image_process\\images')"
   ]
  },
  {
   "cell_type": "markdown",
   "metadata": {},
   "source": [
    "### 直方图均衡化"
   ]
  },
  {
   "cell_type": "code",
   "execution_count": 3,
   "metadata": {},
   "outputs": [],
   "source": [
    "from PIL import Image\n",
    "from numpy import *\n",
    "import matplotlib.pyplot as plt\n",
    "import matplotlib.image as mpimg # mpimg 用于读取图片\n",
    "def histeq(im, nbr_bins=256):\n",
    "    # 计算图像的直方图\n",
    "    imhist, bins = histogram(im.flatten(), nbr_bins)\n",
    "    # 计算累计分布函数\n",
    "    cdf = imhist.cumsum()\n",
    "    \n",
    "    # 归一化\n",
    "    cdf = 255 * cdf / cdf[-1]\n",
    "    \n",
    "    # 使用累计分布函数的线性插值，计算新的像素值\n",
    "    im2 = interp(im.flatten(), bins[:-1], cdf)\n",
    "    \n",
    "    return im2.reshape(im.shape), cdf"
   ]
  },
  {
   "cell_type": "code",
   "execution_count": 9,
   "metadata": {},
   "outputs": [
    {
     "ename": "FileNotFoundError",
     "evalue": "[WinError 3] 系统找不到指定的路径。: 'E:\\\\pythonCV\\\\images'",
     "output_type": "error",
     "traceback": [
      "\u001b[1;31m---------------------------------------------------------------------------\u001b[0m",
      "\u001b[1;31mFileNotFoundError\u001b[0m                         Traceback (most recent call last)",
      "\u001b[1;32m<ipython-input-9-5a90be50417b>\u001b[0m in \u001b[0;36m<module>\u001b[1;34m\u001b[0m\n\u001b[1;32m----> 1\u001b[1;33m \u001b[1;32mfor\u001b[0m \u001b[0mindex\u001b[0m \u001b[1;32min\u001b[0m \u001b[0mget_imlist\u001b[0m\u001b[1;33m(\u001b[0m\u001b[1;34mr'E:\\pythonCV\\images'\u001b[0m\u001b[1;33m)\u001b[0m\u001b[1;33m[\u001b[0m\u001b[1;36m3\u001b[0m\u001b[1;33m:\u001b[0m\u001b[1;36m6\u001b[0m\u001b[1;33m]\u001b[0m\u001b[1;33m:\u001b[0m\u001b[1;33m\u001b[0m\u001b[1;33m\u001b[0m\u001b[0m\n\u001b[0m\u001b[0;32m      2\u001b[0m \u001b[1;31m#     src_im = np.array(Image.open(index))\u001b[0m\u001b[1;33m\u001b[0m\u001b[1;33m\u001b[0m\u001b[1;33m\u001b[0m\u001b[0m\n\u001b[0;32m      3\u001b[0m     \u001b[0mgray_im\u001b[0m \u001b[1;33m=\u001b[0m \u001b[0mnp\u001b[0m\u001b[1;33m.\u001b[0m\u001b[0marray\u001b[0m\u001b[1;33m(\u001b[0m\u001b[0mImage\u001b[0m\u001b[1;33m.\u001b[0m\u001b[0mopen\u001b[0m\u001b[1;33m(\u001b[0m\u001b[0mindex\u001b[0m\u001b[1;33m)\u001b[0m\u001b[1;33m.\u001b[0m\u001b[0mconvert\u001b[0m\u001b[1;33m(\u001b[0m\u001b[1;34m'L'\u001b[0m\u001b[1;33m)\u001b[0m\u001b[1;33m)\u001b[0m\u001b[1;33m\u001b[0m\u001b[1;33m\u001b[0m\u001b[0m\n\u001b[0;32m      4\u001b[0m     \u001b[1;31m# 直方图均衡化\u001b[0m\u001b[1;33m\u001b[0m\u001b[1;33m\u001b[0m\u001b[1;33m\u001b[0m\u001b[0m\n\u001b[0;32m      5\u001b[0m     \u001b[0mout_im\u001b[0m\u001b[1;33m,\u001b[0m \u001b[0mcdf\u001b[0m \u001b[1;33m=\u001b[0m \u001b[0mhisteq\u001b[0m\u001b[1;33m(\u001b[0m\u001b[0mgray_im\u001b[0m\u001b[1;33m)\u001b[0m\u001b[1;33m\u001b[0m\u001b[1;33m\u001b[0m\u001b[0m\n",
      "\u001b[1;32m<ipython-input-5-671a3a9a39ad>\u001b[0m in \u001b[0;36mget_imlist\u001b[1;34m(path)\u001b[0m\n\u001b[0;32m      4\u001b[0m \u001b[1;31m# 返回目录中所有图像的文件名列表\u001b[0m\u001b[1;33m\u001b[0m\u001b[1;33m\u001b[0m\u001b[1;33m\u001b[0m\u001b[0m\n\u001b[0;32m      5\u001b[0m \u001b[1;32mdef\u001b[0m \u001b[0mget_imlist\u001b[0m\u001b[1;33m(\u001b[0m\u001b[0mpath\u001b[0m\u001b[1;33m)\u001b[0m\u001b[1;33m:\u001b[0m\u001b[1;33m\u001b[0m\u001b[1;33m\u001b[0m\u001b[0m\n\u001b[1;32m----> 6\u001b[1;33m     \u001b[1;32mreturn\u001b[0m \u001b[1;33m[\u001b[0m\u001b[0mos\u001b[0m\u001b[1;33m.\u001b[0m\u001b[0mpath\u001b[0m\u001b[1;33m.\u001b[0m\u001b[0mjoin\u001b[0m\u001b[1;33m(\u001b[0m\u001b[0mpath\u001b[0m\u001b[1;33m,\u001b[0m \u001b[0mf\u001b[0m\u001b[1;33m)\u001b[0m \u001b[1;32mfor\u001b[0m \u001b[0mf\u001b[0m \u001b[1;32min\u001b[0m \u001b[0mos\u001b[0m\u001b[1;33m.\u001b[0m\u001b[0mlistdir\u001b[0m\u001b[1;33m(\u001b[0m\u001b[0mpath\u001b[0m\u001b[1;33m)\u001b[0m \u001b[1;32mif\u001b[0m \u001b[0mf\u001b[0m\u001b[1;33m.\u001b[0m\u001b[0mendswith\u001b[0m\u001b[1;33m(\u001b[0m\u001b[1;34m'.jpg'\u001b[0m\u001b[1;33m)\u001b[0m\u001b[1;33m]\u001b[0m\u001b[1;33m\u001b[0m\u001b[1;33m\u001b[0m\u001b[0m\n\u001b[0m",
      "\u001b[1;31mFileNotFoundError\u001b[0m: [WinError 3] 系统找不到指定的路径。: 'E:\\\\pythonCV\\\\images'"
     ]
    }
   ],
   "source": [
    "for index in get_imlist(r'E:\\\\pythonCV\\\\digital_image_process\\\\image')[3:6]:\n",
    "#     src_im = np.array(Image.open(index))\n",
    "    gray_im = np.array(Image.open(index).convert('L'))\n",
    "    # 直方图均衡化\n",
    "    out_im, cdf = histeq(gray_im)\n",
    "    # 原图信息\n",
    "    plt.figure(figsize=(10,5))\n",
    "    ax = plt.subplot(1,2,1)\n",
    "    # 不加cmap会显示错误\n",
    "    plt.axis('off')\n",
    "    ax.imshow(gray_im, cmap='gray')\n",
    "    ax = plt.subplot(1,2,2)\n",
    "    ax.hist(gray_im.flatten())\n",
    "    plt.savefig(index.split('\\\\')[-1].split('.')[0] + '_src.jpg')\n",
    "    # 变换后的信息\n",
    "    plt.figure(figsize=(10,5))\n",
    "    ax = plt.subplot(1,2,1)\n",
    "    plt.axis('off')\n",
    "    ax.imshow(out_im,cmap='gray')\n",
    "    ax = plt.subplot(1,2,2)\n",
    "    ax.hist(out_im.flatten())\n",
    "    plt.savefig(index.split('\\\\')[-1].split('.')[0] + '_hist.jpg')"
   ]
  },
  {
   "cell_type": "code",
   "execution_count": null,
   "metadata": {},
   "outputs": [],
   "source": [
    "index = get_imlist(r'E:\\pythonCV\\images')\n",
    "i = index[0].split('\\\\')[-1].split('.')[0] + '_hist.jpg'\n",
    "i"
   ]
  },
  {
   "cell_type": "code",
   "execution_count": null,
   "metadata": {},
   "outputs": [],
   "source": [
    "for index in get_imlist(r'E:\\pythonCV\\images')[:3]:\n",
    "    print(index)"
   ]
  },
  {
   "cell_type": "markdown",
   "metadata": {},
   "source": [
    "## 对彩色图像的直方图均衡化"
   ]
  },
  {
   "cell_type": "code",
   "execution_count": null,
   "metadata": {},
   "outputs": [],
   "source": [
    "import cv2\n",
    "def RGB2HSI(rgb_img):\n",
    "    \"\"\"\n",
    "    这是将RGB彩色图像转化为HSI图像的函数\n",
    "    :param rgm_img: RGB彩色图像\n",
    "    :return: HSI图像\n",
    "    \"\"\"\n",
    "    #保存原始图像的行列数\n",
    "    row = np.shape(rgb_img)[0]\n",
    "    col = np.shape(rgb_img)[1]\n",
    "    #对原始图像进行复制\n",
    "    hsi_img = rgb_img.copy()\n",
    "    #对图像进行通道拆分\n",
    "    B,G,R = cv2.split(rgb_img)\n",
    "    #把通道归一化到[0,1]\n",
    "    [B,G,R] = [ i/ 255.0 for i in ([B,G,R])]\n",
    "    H = np.zeros((row, col))    #定义H通道\n",
    "    I = (R + G + B) / 3.0       #计算I通道\n",
    "    S = np.zeros((row,col))      #定义S通道\n",
    "    for i in range(row):\n",
    "        den = np.sqrt((R[i]-G[i])**2+(R[i]-B[i])*(G[i]-B[i]))\n",
    "        thetha = np.arccos(0.5*(R[i]-B[i]+R[i]-G[i])/den)   #计算夹角\n",
    "        h = np.zeros(col)               #定义临时数组\n",
    "        #den>0且G>=B的元素h赋值为thetha\n",
    "        h[B[i]<=G[i]] = thetha[B[i]<=G[i]]\n",
    "        #den>0且G<=B的元素h赋值为thetha\n",
    "        h[G[i]<B[i]] = 2*np.pi-thetha[G[i]<B[i]]\n",
    "        #den<0的元素h赋值为0\n",
    "        h[den == 0] = 0\n",
    "        H[i] = h/(2*np.pi)      #弧度化后赋值给H通道\n",
    "    #计算S通道\n",
    "    for i in range(row):\n",
    "        min = []\n",
    "        #找出每组RGB值的最小值\n",
    "        for j in range(col):\n",
    "            arr = [B[i][j],G[i][j],R[i][j]]\n",
    "            min.append(np.min(arr))\n",
    "        min = np.array(min)\n",
    "        #计算S通道\n",
    "        S[i] = 1 - min*3/(R[i]+B[i]+G[i])\n",
    "        #I为0的值直接赋值0\n",
    "        S[i][R[i]+B[i]+G[i] == 0] = 0\n",
    "    #扩充到255以方便显示，一般H分量在[0,2pi]之间，S和I在[0,1]之间\n",
    "    hsi_img[:,:,0] = H*255\n",
    "    hsi_img[:,:,1] = S*255\n",
    "    hsi_img[:,:,2] = I*255\n",
    "    return hsi_img\n",
    "\n",
    "def HSI2RGB(hsi_img):\n",
    "    \"\"\"\n",
    "    这是将HSI图像转化为RGB图像的函数\n",
    "    :param hsi_img: HSI彩色图像\n",
    "    :return: RGB图像\n",
    "    \"\"\"\n",
    "    # 保存原始图像的行列数\n",
    "    row = np.shape(hsi_img)[0]\n",
    "    col = np.shape(hsi_img)[1]\n",
    "    #对原始图像进行复制\n",
    "    rgb_img = hsi_img.copy()\n",
    "    #对图像进行通道拆分\n",
    "    H,S,I = cv2.split(hsi_img)\n",
    "    #把通道归一化到[0,1]\n",
    "    [H,S,I] = [ i/ 255.0 for i in ([H,S,I])]\n",
    "    R,G,B = H,S,I\n",
    "    for i in range(row):\n",
    "        h = H[i]*2*np.pi\n",
    "        #H大于等于0小于120度时\n",
    "        a1 = h >=0\n",
    "        a2 = h < 2*np.pi/3\n",
    "        a = a1 & a2         #第一种情况的花式索引\n",
    "        tmp = np.cos(np.pi / 3 - h)\n",
    "        b = I[i] * (1 - S[i])\n",
    "        r = I[i]*(1+S[i]*np.cos(h)/tmp)\n",
    "        g = 3*I[i]-r-b\n",
    "        B[i][a] = b[a]\n",
    "        R[i][a] = r[a]\n",
    "        G[i][a] = g[a]\n",
    "        #H大于等于120度小于240度\n",
    "        a1 = h >= 2*np.pi/3\n",
    "        a2 = h < 4*np.pi/3\n",
    "        a = a1 & a2         #第二种情况的花式索引\n",
    "        tmp = np.cos(np.pi - h)\n",
    "        r = I[i] * (1 - S[i])\n",
    "        g = I[i]*(1+S[i]*np.cos(h-2*np.pi/3)/tmp)\n",
    "        b = 3 * I[i] - r - g\n",
    "        R[i][a] = r[a]\n",
    "        G[i][a] = g[a]\n",
    "        B[i][a] = b[a]\n",
    "        #H大于等于240度小于360度\n",
    "        a1 = h >= 4 * np.pi / 3\n",
    "        a2 = h < 2 * np.pi\n",
    "        a = a1 & a2             #第三种情况的花式索引\n",
    "        tmp = np.cos(5 * np.pi / 3 - h)\n",
    "        g = I[i] * (1-S[i])\n",
    "        b = I[i]*(1+S[i]*np.cos(h-4*np.pi/3)/tmp)\n",
    "        r = 3 * I[i] - g - b\n",
    "        B[i][a] = b[a]\n",
    "        G[i][a] = g[a]\n",
    "        R[i][a] = r[a]\n",
    "    rgb_img[:,:,0] = B*255\n",
    "    rgb_img[:,:,1] = G*255\n",
    "    rgb_img[:,:,2] = R*255\n",
    "    return rgb_img"
   ]
  },
  {
   "cell_type": "code",
   "execution_count": null,
   "metadata": {},
   "outputs": [],
   "source": [
    "rgb_img = cv2.imread('12&9.jpg', cv2.IMREAD_COLOR)\n",
    "# rgb2hsi\n",
    "hsi_img = RGB2HSI(rgb_img)\n",
    "cv2.imwrite('SRC.jpg', rgb_img)\n",
    "cv2.imwrite('HSI.jpg', hsi_img)"
   ]
  },
  {
   "cell_type": "code",
   "execution_count": null,
   "metadata": {},
   "outputs": [],
   "source": [
    "hsi_i = cv2.split(hsi_img)[-1]\n",
    "hsieq, _ = histeq(hsi_i, nbr_bins=255)\n",
    "plt.figure()\n",
    "plt.hist(hsieq.flatten())\n",
    "plt.show()\n",
    "# plt.savefig(index.split('\\\\')[-1].split('.')[0] + '_hist.jpg')"
   ]
  },
  {
   "cell_type": "code",
   "execution_count": null,
   "metadata": {},
   "outputs": [],
   "source": [
    "plt.figure()\n",
    "plt.hist(hsi_i.flatten())\n",
    "plt.show()"
   ]
  },
  {
   "cell_type": "code",
   "execution_count": null,
   "metadata": {},
   "outputs": [],
   "source": [
    "hsi_img"
   ]
  },
  {
   "cell_type": "code",
   "execution_count": null,
   "metadata": {},
   "outputs": [],
   "source": [
    "# 将变换后的i替换\n",
    "hsi_img[:,:, -1] = hsieq\n",
    "hsi_img"
   ]
  },
  {
   "cell_type": "code",
   "execution_count": null,
   "metadata": {},
   "outputs": [],
   "source": []
  }
 ],
 "metadata": {
  "kernelspec": {
   "display_name": "Python 3",
   "language": "python",
   "name": "python3"
  },
  "language_info": {
   "codemirror_mode": {
    "name": "ipython",
    "version": 3
   },
   "file_extension": ".py",
   "mimetype": "text/x-python",
   "name": "python",
   "nbconvert_exporter": "python",
   "pygments_lexer": "ipython3",
   "version": "3.7.6"
  }
 },
 "nbformat": 4,
 "nbformat_minor": 4
}
